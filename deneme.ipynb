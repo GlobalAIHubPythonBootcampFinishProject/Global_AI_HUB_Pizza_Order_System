{
 "cells": [
  {
   "cell_type": "code",
   "execution_count": 13,
   "metadata": {},
   "outputs": [
    {
     "data": {
      "text/plain": [
       "{'Pizza': 'Classic pizza',\n",
       " 'Malzemeler': '',\n",
       " 'Soslar': '',\n",
       " 'İçecekler': '',\n",
       " 'Fiyat': 0,\n",
       " 'Notlar': ''}"
      ]
     },
     "execution_count": 13,
     "metadata": {},
     "output_type": "execute_result"
    }
   ],
   "source": [
    "pizzalar = ['Classic pizza','Sade pizza','Turk pizza','Margaritta pizza']\n",
    "tuple1 = [('Classic pizza', 24), ('Zeytin', 5), ('Mayonez', 5), ('Fanta', 5)]\n",
    "sepet_ekle = {\"Pizza\": \"\", \"Malzemeler\": \"\", \"Soslar\": \"\", \"İçecekler\": \"\", \"Fiyat\": 0, \"Notlar\": \"\"}\n",
    "for veri in tuple1:\n",
    "    if veri[0] in pizzalar :\n",
    "        sepet_ekle['Pizza'] = veri[0]\n",
    "sepet_ekle\n",
    " \n",
    "  "
   ]
  },
  {
   "cell_type": "code",
   "execution_count": null,
   "metadata": {},
   "outputs": [],
   "source": [
    "{'Pizza': 'Margarita pizza tabanı', 'Malzemeler': 'Mantar, Keçi Peyniri', 'Soslar': 'Ketçap, Mayonez', 'İçecekler': 'Fanta, Gazoz', 'Fiyat': 75, 'Notlar': 'aSDFGH'}"
   ]
  },
  {
   "cell_type": "code",
   "execution_count": null,
   "metadata": {},
   "outputs": [],
   "source": [
    "if veri[0] in pizzalar :\n",
    "                sepet_ekle['Pizza'] = veri[0]\n",
    " elif \"Sos\" in veri[0]:\n",
    "                if sepet_ekle[\"Soslar\"] != \"\":\n",
    "                    sepet_ekle[\"Soslar\"] += \", \"\n",
    "                sepet_ekle[\"Soslar\"] += veri[0]\n",
    " elif \"İçecek\" in veri[0]:\n",
    "                if sepet_ekle[\"İçecekler\"] != \"\":\n",
    "                    sepet_ekle[\"İçecekler\"] += \", \"\n",
    "                sepet_ekle[\"İçecekler\"] += veri[0]\n",
    " else:\n",
    "     if sepet_ekle[\"Malzemeler\"] != \"\":\n",
    "                sepet_ekle[\"Malzemeler\"] += \", \"\n",
    "                sepet_ekle[\"Malzemeler\"] += veri[0]\n",
    "                sepet_ekle[\"Fiyat\"] += veri[1]\n",
    "                sepet_ekle[\"Notlar\"] = \"\""
   ]
  }
 ],
 "metadata": {
  "kernelspec": {
   "display_name": "base",
   "language": "python",
   "name": "python3"
  },
  "language_info": {
   "codemirror_mode": {
    "name": "ipython",
    "version": 3
   },
   "file_extension": ".py",
   "mimetype": "text/x-python",
   "name": "python",
   "nbconvert_exporter": "python",
   "pygments_lexer": "ipython3",
   "version": "3.9.13"
  },
  "orig_nbformat": 4
 },
 "nbformat": 4,
 "nbformat_minor": 2
}
